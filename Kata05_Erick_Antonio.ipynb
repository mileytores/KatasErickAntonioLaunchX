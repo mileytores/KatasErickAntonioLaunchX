{
 "cells": [
  {
   "cell_type": "markdown",
   "metadata": {},
   "source": [
    "# Kata 05 Utilizar operadores aritméticos"
   ]
  },
  {
   "cell_type": "code",
   "execution_count": 28,
   "metadata": {},
   "outputs": [
    {
     "name": "stdout",
     "output_type": "stream",
     "text": [
      "628949330\n",
      "390577533.93\n"
     ]
    }
   ],
   "source": [
    "# Operadores aritméticos en Python\n",
    "# Tierra (149.597.870 km) y Júpiter (778.547.200 km).\n",
    "\n",
    "## Crear variables para almacenar las dos distancias\n",
    "# ¡Asegúrate de quitar las comas!\n",
    "\n",
    "t = 149597870 #en KMs\n",
    "j = 778547200 #en KMs\n",
    "\n",
    "# Calcular la distancia entre planetas\n",
    "\n",
    "\n",
    "distancia = (t) - (j)\n",
    "print (abs(distancia))\n",
    "\n",
    "millas = distancia * 0.621\n",
    "print (abs(millas))\n"
   ]
  },
  {
   "cell_type": "code",
   "execution_count": 36,
   "metadata": {},
   "outputs": [
    {
     "name": "stdout",
     "output_type": "stream",
     "text": [
      "1524.555\n"
     ]
    }
   ],
   "source": [
    "# Ejercicio 2: convierte cadenas en números y usa valores absolutos\n",
    "\n",
    "# Almacenar las entradas del usuario\n",
    "planeta1 = input (\"Cual es la distancia del planeta 1?: \")\n",
    "planeta2 = input (\"Cual es la distancia del planeta 2?: \")\n",
    "\n",
    "# # Convierte las cadenas de ambos planetas a números enteros\n",
    "planetaA = int(planeta1)\n",
    "planetaB = int (planeta2)\n",
    "\n",
    "# Realizar el cálculo y determinar el valor absoluto\n",
    "distanciaKM = planetaA - planetaB\n",
    "\n",
    "# Convertir de Millas a KM\n",
    "distanciaMilla = distanciaKM * 0.621\n",
    "print (abs(distanciaMilla))"
   ]
  }
 ],
 "metadata": {
  "interpreter": {
   "hash": "8d24f2c3f172076644dc61f5472830a3725c5f8d376295ed6aeed129caa78c63"
  },
  "kernelspec": {
   "display_name": "Python 3.9.10 64-bit (windows store)",
   "language": "python",
   "name": "python3"
  },
  "language_info": {
   "codemirror_mode": {
    "name": "ipython",
    "version": 3
   },
   "file_extension": ".py",
   "mimetype": "text/x-python",
   "name": "python",
   "nbconvert_exporter": "python",
   "pygments_lexer": "ipython3",
   "version": "3.9.10"
  },
  "orig_nbformat": 4
 },
 "nbformat": 4,
 "nbformat_minor": 2
}

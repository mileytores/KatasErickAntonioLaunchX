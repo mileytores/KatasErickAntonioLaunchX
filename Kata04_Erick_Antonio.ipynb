{
 "cells": [
  {
   "cell_type": "markdown",
   "metadata": {},
   "source": [
    "# Kata 4"
   ]
  },
  {
   "cell_type": "code",
   "execution_count": 9,
   "metadata": {},
   "outputs": [],
   "source": [
    "text = \"\"\"Interesting facts about the Moon. The Moon is Earth's only satellite. There are several interesting facts about the Moon and how it affects life here on Earth. \n",
    "On average, the Moon moves 4cm away from the Earth every year. This yearly drift is not significant enough to cause immediate effects on Earth. The highest daylight temperature of the Moon is 127 C.\"\"\"\n"
   ]
  },
  {
   "cell_type": "code",
   "execution_count": 29,
   "metadata": {},
   "outputs": [
    {
     "data": {
      "text/plain": [
       "['Interesting facts about the Moon',\n",
       " \" The Moon is Earth's only satellite\",\n",
       " ' There are several interesting facts about the Moon and how it affects life here on Earth',\n",
       " ' \\nOn average, the Moon moves 4cm away from the Earth every year',\n",
       " ' This yearly drift is not significant enough to cause immediate effects on Earth',\n",
       " ' The highest daylight temperature of the Moon is 127 C',\n",
       " '']"
      ]
     },
     "execution_count": 29,
     "metadata": {},
     "output_type": "execute_result"
    }
   ],
   "source": [
    "#Dividimos el Código\n",
    "palabrasDivididas = text.split('.')\n",
    "palabrasDivididas"
   ]
  },
  {
   "cell_type": "code",
   "execution_count": 62,
   "metadata": {},
   "outputs": [
    {
     "data": {
      "text/plain": [
       "['average', 'temperature', 'distance']"
      ]
     },
     "execution_count": 62,
     "metadata": {},
     "output_type": "execute_result"
    }
   ],
   "source": [
    "# Definimos las palabras pista: average, temperature y distance\n",
    "pistas = [\"average\", \"temperature\", \"distance\"]\n",
    "pistas\n"
   ]
  },
  {
   "cell_type": "code",
   "execution_count": 123,
   "metadata": {},
   "outputs": [
    {
     "name": "stdout",
     "output_type": "stream",
     "text": [
      "Interesting facts about the Moon\n",
      " The Moon is Earth's only satellite\n",
      " There are several interesting facts about the Moon and how it affects life here on Earth\n",
      " \n",
      "On average, the Moon moves 4cm away from the Earth every year\n",
      " This yearly drift is not significant enough to cause immediate effects on Earth\n",
      " The highest daylight temperature of the Moon is 127 C\n"
     ]
    }
   ],
   "source": [
    "#Encontramos las palabras pistas en las frases que cortamos con split\n",
    "for encontrarLuna in palabrasDivididas: #Buscamos en las frases\n",
    "    for pistas in pistas: #vamos a buscas las palabras claves en las palabras clave\n",
    "        if pistas in encontrarLuna: # buscamos las palabras clave en las frases\n",
    "            print (encontrarLuna) #imprimimos las frases donde se encontraron las palabras"
   ]
  },
  {
   "cell_type": "code",
   "execution_count": 135,
   "metadata": {},
   "outputs": [
    {
     "name": "stdout",
     "output_type": "stream",
     "text": [
      "Interesting facts about the Moon\n",
      " The Moon is Earth's only satellite\n",
      " There are several interesting facts about the Moon and how it affects life here on Earth\n",
      " \n",
      "On average, the Moon moves 4cm away from the Earth every year\n",
      " This yearly drift is not significant enough to cause immediate effects on Earth\n",
      " The highest daylight temperature of the Moon is 127 Celsius\n"
     ]
    }
   ],
   "source": [
    "# Ciclo para cambiar C a Celsius\n",
    "for reemplazar in palabrasDivididas:\n",
    "    for pistas in pistas:\n",
    "        if pistas in reemplazar:\n",
    "            cambio = reemplazar.replace('C', 'Celsius')\n",
    "            print (cambio)"
   ]
  },
  {
   "cell_type": "markdown",
   "metadata": {},
   "source": [
    "# Ejercicio 2: Formateando Cadenas"
   ]
  },
  {
   "cell_type": "code",
   "execution_count": 136,
   "metadata": {},
   "outputs": [],
   "source": [
    "# Datos con los que vas a trabajar\n",
    "name = \"Moon\"\n",
    "gravity = 0.00162 # in kms\n",
    "planet = \"Earth\""
   ]
  },
  {
   "cell_type": "code",
   "execution_count": 167,
   "metadata": {},
   "outputs": [
    {
     "name": "stdout",
     "output_type": "stream",
     "text": [
      "La Gravedad los Planetas \n",
      " **********************\n"
     ]
    }
   ],
   "source": [
    "#Titulo\n",
    "titulo = 'La Gravedad los Planetas '\n",
    "barras = '************************'\n",
    "\n",
    "tituloLargo = (f\"{titulo}\\n {barras}\")\n",
    "print (tituloLargo)"
   ]
  },
  {
   "cell_type": "code",
   "execution_count": 178,
   "metadata": {},
   "outputs": [
    {
     "name": "stdout",
     "output_type": "stream",
     "text": [
      "La Gravedad los Planetas \n",
      " ********************** \n",
      " Nombre del Planeta: Moon \n",
      " Gravedad: 1.6199999999999999 mts/s2\n"
     ]
    }
   ],
   "source": [
    "# Creamos la plantilla\n",
    "# Unión de ambas cadenas\n",
    "plantilla = (f\"{tituloLargo} \\n Nombre del Planeta: {name} \\n Gravedad: {gravity*1000} mts/s2\")\n",
    "print (plantilla)\n"
   ]
  },
  {
   "cell_type": "code",
   "execution_count": 194,
   "metadata": {},
   "outputs": [],
   "source": [
    "# Otros datos de muestra\n",
    "\n",
    "planeta = 'Marte '\n",
    "gravedad  = 0.00143\n",
    "nombre = 'Ganímedes'\n",
    "\n",
    "#plantilla = (f\"{tituloLargo} \\n Nombre del Planeta: {name} \\n Gravedad: {gravity*1000} mts/s2\")\n",
    "#print (plantilla)"
   ]
  },
  {
   "cell_type": "code",
   "execution_count": 195,
   "metadata": {},
   "outputs": [
    {
     "name": "stdout",
     "output_type": "stream",
     "text": [
      "La Gravedad los Planetas \n",
      " ********************** \n",
      " Nombre del Planeta: Marte  \n",
      " Gravedad en Ganímedes : 0.00143 mts/s2\n"
     ]
    }
   ],
   "source": [
    "# Nueva plantilla\n",
    "\n",
    "plantillaNueva = (f\"{tituloLargo} \\n Nombre del Planeta: {planeta} \\n Gravedad en {nombre} : {gravedad} mts/s2\")\n",
    "\n",
    "print (plantillaNueva.format(nombre=nombre, planeta=planeta, gravedad=gravedad*1000))"
   ]
  }
 ],
 "metadata": {
  "interpreter": {
   "hash": "8d24f2c3f172076644dc61f5472830a3725c5f8d376295ed6aeed129caa78c63"
  },
  "kernelspec": {
   "display_name": "Python 3.9.10 64-bit (windows store)",
   "language": "python",
   "name": "python3"
  },
  "language_info": {
   "codemirror_mode": {
    "name": "ipython",
    "version": 3
   },
   "file_extension": ".py",
   "mimetype": "text/x-python",
   "name": "python",
   "nbconvert_exporter": "python",
   "pygments_lexer": "ipython3",
   "version": "3.9.10"
  },
  "orig_nbformat": 4
 },
 "nbformat": 4,
 "nbformat_minor": 2
}

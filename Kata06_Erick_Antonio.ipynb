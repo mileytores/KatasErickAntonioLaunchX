{
 "cells": [
  {
   "cell_type": "markdown",
   "metadata": {},
   "source": [
    "# Ejercicio1: Crear y usar listas de Python"
   ]
  },
  {
   "cell_type": "code",
   "execution_count": 7,
   "metadata": {},
   "outputs": [
    {
     "name": "stdout",
     "output_type": "stream",
     "text": [
      "El total de planetas en el Sistema Solar es:  ['Mercurio, Venus, Tierra, Marte, Jupiter, Saturno, Urano, Nptuno']\n",
      "El total de planetas en el Sistema Solar es:  ['Mercurio, Venus, Tierra, Marte, Jupiter, Saturno, Urano, Nptuno', 'Pluton']\n",
      "El último planeta en el Sistema Solar es:  Pluton\n"
     ]
    }
   ],
   "source": [
    "# Creamos la lista planets y la mostramos\n",
    "planets = ['Mercurio, Venus, Tierra, Marte, Jupiter, Saturno, Urano, Nptuno']\n",
    "print ('El total de planetas en el Sistema Solar es: ', planets)\n",
    "\n",
    "# Agregamos a plutón y mostramos el último elemento\n",
    "planets.append ('Pluton')\n",
    "print ('El total de planetas en el Sistema Solar es: ', planets)\n",
    "print ('El último planeta en el Sistema Solar es: ', planets[-1])"
   ]
  },
  {
   "cell_type": "markdown",
   "metadata": {},
   "source": [
    "# Ejercicio 2: Trabajando con datos de una lista"
   ]
  },
  {
   "cell_type": "code",
   "execution_count": 40,
   "metadata": {},
   "outputs": [
    {
     "name": "stdout",
     "output_type": "stream",
     "text": [
      "Lista de Planetas:  ['Mercury', 'Venus', 'Earth', 'Mars', 'Jupiter', 'Saturn', 'Neptune', 'oiasdiad']\n",
      "El índice del nuevo elemento es:  7\n",
      "Planetas mas cercanos al sol ['Mercury', 'Venus', 'Earth', 'Mars', 'Jupiter', 'Saturn', 'Neptune', 'oiasdiad']\n",
      "Planetas mas alejados del Sol:  ['oiasdiad', 'Venus', 'Saturn', 'Neptune', 'Mercury', 'Mars', 'Jupiter', 'Earth']\n",
      "[]\n"
     ]
    }
   ],
   "source": [
    "# Lista de planetas\n",
    "planets = ['Mercury', 'Venus', 'Earth', 'Mars', 'Jupiter', 'Saturn', 'Neptune']\n",
    "\n",
    "# Solicitamos el nombre de un planeta\n",
    "entrada = input (\"Introduce un nuevo Planeta (En Mayúsculas): \")\n",
    "planets.append(entrada)\n",
    "print('Lista de Planetas: ', planets)\n",
    "\n",
    "#Buscamos el planeta en la lista\n",
    "listaPlanetas= planets.index (entrada)\n",
    "print ('El índice del nuevo elemento es: ', listaPlanetas)\n",
    "\n",
    "# Muestra los planetas más cercanos al sol\n",
    "print ('Planetas mas cercanos al sol', planets)\n",
    "\n",
    "# Muestra los planetas más lejanos al sol\n",
    "planets.sort(reverse=True)\n",
    "print(\"Planetas mas alejados del Sol: \", planets)"
   ]
  }
 ],
 "metadata": {
  "interpreter": {
   "hash": "8d24f2c3f172076644dc61f5472830a3725c5f8d376295ed6aeed129caa78c63"
  },
  "kernelspec": {
   "display_name": "Python 3.9.10 64-bit (windows store)",
   "language": "python",
   "name": "python3"
  },
  "language_info": {
   "codemirror_mode": {
    "name": "ipython",
    "version": 3
   },
   "file_extension": ".py",
   "mimetype": "text/x-python",
   "name": "python",
   "nbconvert_exporter": "python",
   "pygments_lexer": "ipython3",
   "version": "3.9.10"
  },
  "orig_nbformat": 4
 },
 "nbformat": 4,
 "nbformat_minor": 2
}

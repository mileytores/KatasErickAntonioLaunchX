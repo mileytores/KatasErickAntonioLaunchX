{
 "cells": [
  {
   "cell_type": "markdown",
   "metadata": {},
   "source": [
    "# Ejercicio 1: Creación de un bucle \"while\""
   ]
  },
  {
   "cell_type": "code",
   "execution_count": 15,
   "metadata": {},
   "outputs": [
    {
     "name": "stdout",
     "output_type": "stream",
     "text": [
      "[]\n",
      "['Mercurio']\n",
      "['Mercurio', 'Venus']\n",
      "['Mercurio', 'Venus', 'Tierra']\n",
      "['Mercurio', 'Venus', 'Tierra', 'Marte']\n",
      "['Mercurio', 'Venus', 'Tierra', 'Marte', 'Urano']\n",
      "['Mercurio', 'Venus', 'Tierra', 'Marte', 'Urano', 'Pluton']\n"
     ]
    }
   ],
   "source": [
    "# Declara dos variables\n",
    "\n",
    "new_planet = ''\n",
    "planets = []\n",
    "\n",
    "# Escribe el ciclo while solicitado\n",
    "while new_planet != 'done':\n",
    "    if new_planet:\n",
    "        planets.append (new_planet)\n",
    "    new_planet = input ('Ingresa un nuevo Valor o escribe Done para finalizar: ')\n",
    "    print (planets)\n"
   ]
  },
  {
   "cell_type": "markdown",
   "metadata": {},
   "source": [
    "# Ejercicio 2: Creación de un ciclo \"for\""
   ]
  },
  {
   "cell_type": "code",
   "execution_count": null,
   "metadata": {},
   "outputs": [],
   "source": []
  },
  {
   "cell_type": "code",
   "execution_count": 16,
   "metadata": {},
   "outputs": [
    {
     "name": "stdout",
     "output_type": "stream",
     "text": [
      "Lista de Planetas\n",
      "*****************\n",
      "Mercurio\n",
      "Venus\n",
      "Tierra\n",
      "Marte\n",
      "Urano\n",
      "Pluton\n"
     ]
    }
   ],
   "source": [
    "# Ejercicio: - Ciclo para una lista\n",
    "\n",
    "# Escribe tu ciclo for para iterar en una lista de planetas\n",
    "print(\"\"\"Lista de Planetas\n",
    "*****************\"\"\")\n",
    "for planetas in planets:\n",
    "    print (planetas)"
   ]
  }
 ],
 "metadata": {
  "interpreter": {
   "hash": "8d24f2c3f172076644dc61f5472830a3725c5f8d376295ed6aeed129caa78c63"
  },
  "kernelspec": {
   "display_name": "Python 3.9.10 64-bit (windows store)",
   "language": "python",
   "name": "python3"
  },
  "language_info": {
   "codemirror_mode": {
    "name": "ipython",
    "version": 3
   },
   "file_extension": ".py",
   "mimetype": "text/x-python",
   "name": "python",
   "nbconvert_exporter": "python",
   "pygments_lexer": "ipython3",
   "version": "3.9.10"
  },
  "orig_nbformat": 4
 },
 "nbformat": 4,
 "nbformat_minor": 2
}

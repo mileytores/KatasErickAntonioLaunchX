{
 "cells": [
  {
   "cell_type": "markdown",
   "metadata": {},
   "source": [
    "# Ejercicio 1 - Escribir declaraciones if, else, y elif\n",
    "\n",
    "una lógica condicional que imprima una advertencia si un asteroide se acerca a la Tierra demasiado rápido. La velocidad del asteroide varía dependiendo de lo cerca que esté del sol, y cualquier velocidad superior a 25 kilómetros por segundo (km/s) merece una advertencia.\n",
    "\n",
    "Un asteroide se acerca, y viaja a una velocidad de 49 km/s.\n",
    "\n",
    "- Añadir el código necesario para crear una variable que guarde la velocidad del asteroide.\n",
    "- Escribe una expresión de prueba para calcular si necesita una advertencia.\n",
    "- Agregue las instrucciones que se ejecutarán si la expresión de prueba es true o false."
   ]
  },
  {
   "cell_type": "code",
   "execution_count": 3,
   "metadata": {},
   "outputs": [
    {
     "name": "stdout",
     "output_type": "stream",
     "text": [
      "Advertencia, se acerca un asteroide!\n"
     ]
    }
   ],
   "source": [
    "asteroide = 49\n",
    "if asteroide < 25:\n",
    "    print (\"Sin advertencias\")\n",
    "else:\n",
    "    print (\"Advertencia, se acerca un asteroide!\")"
   ]
  },
  {
   "cell_type": "markdown",
   "metadata": {},
   "source": [
    "# Ejercicio 2\n",
    "Si un asteroide entra en la atmósfera de la Tierra a una velocidad mayor o igual a 20 km/s, a veces produce un rayo de luz que se puede ver desde la Tierra. Escribe la lógica condicional que usa declaraciones if, else, y elif para alertar a las personas de todo el mundo que deben buscar un asteroide en el cielo. ¡Hay uno que se dirige a la tierra ahora a una velocidad de 19 km/s!\n",
    "\n",
    "- Agrega el código para crear una variable para un asteroide que viaja a 19 km/s\n",
    "- Escribe varias expresiones de prueba para determinar si puedes ver el rayo de luz desde la tierra\n",
    "- Agrega las instrucciones que se ejecutarán si las expresiones de prueba son True o False"
   ]
  },
  {
   "cell_type": "code",
   "execution_count": 41,
   "metadata": {},
   "outputs": [
    {
     "name": "stdout",
     "output_type": "stream",
     "text": [
      "En 2 dias se estrellara un asteroide en la tierra!\n"
     ]
    }
   ],
   "source": [
    "asteroide = int(input (\"Introduce la velocidad del asteroide: \"))\n",
    "if asteroide >= 20 and asteroide < 30:\n",
    "    personas = int(input (\"Mira arriba! Puedes ver un rayo de luz en el cielo? 1=Claramente 2=Nada\"))\n",
    "    if personas >= 2:\n",
    "        print (\"En 5 dias se estrellara un asteroide en la tierra!\")\n",
    "    print (\"En 2 dias se estrellara un asteroide en la tierra!\")\n",
    "elif asteroide > 30:\n",
    "    print (\"Corran por sus vidas! Peligro inminente\")\n",
    "else:\n",
    "    print (\"Nada de que preocuparte\")"
   ]
  },
  {
   "cell_type": "markdown",
   "metadata": {},
   "source": [
    "## Ejercicio 3\n",
    "\n",
    "- Los asteroides de menos de 25 metros en su dimensión más grande probablemente se quemarán a medida que entren en la atmósfera de la Tierra.\n",
    "- Si una pieza de un asteroide que es más grande que 25 metros pero más pequeña que 1000 metros golpeara la Tierra, causaría mucho daño.\n",
    "- La velocidad del asteroide varía en función de lo cerca que esté del sol, y cualquier velocidad superior a 25 kilómetros por segundo (km/s) merece una advertencia.\n",
    "- Si un asteroide entra en la atmósfera de la Tierra a una velocidad mayor o igual a 20 km/s, a veces produce un rayo de luz que se puede ver desde la Tierra.\n",
    "- Usando toda esta información, escribe un programa que emita la advertencia o información correcta a la gente de la Tierra, según la velocidad y el tamaño de un asteroide. Utiliza instrucciones if, else, y elif, así como los operadores and y or."
   ]
  },
  {
   "cell_type": "code",
   "execution_count": 52,
   "metadata": {},
   "outputs": [
    {
     "name": "stdout",
     "output_type": "stream",
     "text": [
      "Mira al Cielo, Un asteroide de gran tamaño se acerca a la tierra\n"
     ]
    }
   ],
   "source": [
    "tamAsteroide = int(input (\"Introduce el tamaño del asteroide: \"))\n",
    "if tamAsteroide >= 25 and tamAsteroide <= 1000:\n",
    "    velAsteroide = int(input (\"Introduce la velocidad del asteroide: \"))\n",
    "    if velAsteroide >= 20:\n",
    "        print (\"Mira al Cielo, un asteroide se acerca a la tierra\")\n",
    "    else:\n",
    "        print (\"Cuidado, un asteroide se acerca a la tierra\")\n",
    "elif tamAsteroide >= 1000 and velAsteroide >= 20:\n",
    "    print (\"Mira al Cielo, Un asteroide de gran tamaño se acerca a la tierra\")\n",
    "else:\n",
    "    print (\"Nada de que preocuparse\")"
   ]
  }
 ],
 "metadata": {
  "interpreter": {
   "hash": "8d24f2c3f172076644dc61f5472830a3725c5f8d376295ed6aeed129caa78c63"
  },
  "kernelspec": {
   "display_name": "Python 3.9.10 64-bit (windows store)",
   "language": "python",
   "name": "python3"
  },
  "language_info": {
   "codemirror_mode": {
    "name": "ipython",
    "version": 3
   },
   "file_extension": ".py",
   "mimetype": "text/x-python",
   "name": "python",
   "nbconvert_exporter": "python",
   "pygments_lexer": "ipython3",
   "version": "3.9.10"
  },
  "orig_nbformat": 4
 },
 "nbformat": 4,
 "nbformat_minor": 2
}

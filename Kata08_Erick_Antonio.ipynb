{
 "cells": [
  {
   "cell_type": "markdown",
   "metadata": {},
   "source": [
    "# Kata 008 Diccionarios\n",
    "\n",
    "Ejercicio 1: Creación de diccionarios de Python"
   ]
  },
  {
   "cell_type": "code",
   "execution_count": 22,
   "metadata": {},
   "outputs": [
    {
     "name": "stdout",
     "output_type": "stream",
     "text": [
      "El nombre del planeta es: Mars y su luna es: 42\n",
      "El nombre del planeta es: Tierra y su luna es: 1 \n",
      "El nombre del planeta es: Tierra, su circunferencia polar es: 6792 y tiene 1 luna\n"
     ]
    }
   ],
   "source": [
    "# Crea un diccionario llamado planet con los datos propuestos\n",
    "planet = {\n",
    "    'name': 'Mars',\n",
    "    'moons': 42\n",
    "}\n",
    "# Muestra el nombre del planeta y el número de lunas que tiene.\n",
    "print (f'El nombre del planeta es: {planet[\"name\"]} y su luna es: {planet[\"moons\"]}')\n",
    "\n",
    "# Actualiza la clave y su valor\n",
    "planet['name'] = 'Tierra'\n",
    "planet ['moons'] = 1\n",
    "\n",
    "print (f'El nombre del planeta es: {planet[\"name\"]} y su luna es: {planet[\"moons\"]} ')\n",
    "\n",
    "# # Agrega la clave circunferencia con los datos proporcionados previamente\n",
    "planet.update({\n",
    "    'polar': 6792,\n",
    "    'equatorial': 6792\n",
    "})\n",
    "\n",
    "# Imprime el nombre del planeta con su circunferencia polar\n",
    "print (f'El nombre del planeta es: {planet[\"name\"]}, su circunferencia polar es: {planet[\"polar\"]} y tiene {planet[\"moons\"]} luna')"
   ]
  },
  {
   "cell_type": "markdown",
   "metadata": {},
   "source": [
    "# Ejercicio 2: Programación dinámica con diccionarios\n",
    "Ejercicio: Cálculo de valores"
   ]
  },
  {
   "cell_type": "code",
   "execution_count": 23,
   "metadata": {},
   "outputs": [],
   "source": [
    "# Planets and moons\n",
    "\n",
    "planet_moons = {\n",
    "    'mercury': 0,\n",
    "    'venus': 0,\n",
    "    'earth': 1,\n",
    "    'mars': 2,\n",
    "    'jupiter': 79,\n",
    "    'saturn': 82,\n",
    "    'uranus': 27,\n",
    "    'neptune': 14,\n",
    "    'pluto': 5,\n",
    "    'haumea': 2,\n",
    "    'makemake': 1,\n",
    "    'eris': 1\n",
    "}"
   ]
  },
  {
   "cell_type": "code",
   "execution_count": 33,
   "metadata": {},
   "outputs": [
    {
     "name": "stdout",
     "output_type": "stream",
     "text": [
      "dict_values([0, 0, 1, 2, 79, 82, 27, 14, 5, 2, 1, 1])\n",
      "12\n",
      "El número total de lunas es 214\n",
      "El promedio de lunas es 17.833333333333332\n"
     ]
    }
   ],
   "source": [
    "# Añade el código para determinar el número de lunas\n",
    "\n",
    "moons = planet_moons.values ()\n",
    "planets = len(planet_moons.keys())\n",
    "\n",
    "print (moons)\n",
    "print (planets)\n",
    "\n",
    "# Agrega el código para contar el número de lunas. \n",
    "\n",
    "total_moons = 0\n",
    "# Almacena su valor en una variable llamada total_moons\n",
    "for value in moons:\n",
    "    # Calcula el total_moons agregando todas las lunas\n",
    "    total_moons = total_moons + value\n",
    "    # Calcula el promedio dividiendo el total_moons por el número de planetas\n",
    "    promedio = total_moons/planets\n",
    "print (f'El número total de lunas es {total_moons}')\n",
    "print (f'El promedio de lunas es {promedio}')"
   ]
  }
 ],
 "metadata": {
  "interpreter": {
   "hash": "8d24f2c3f172076644dc61f5472830a3725c5f8d376295ed6aeed129caa78c63"
  },
  "kernelspec": {
   "display_name": "Python 3.9.10 64-bit (windows store)",
   "language": "python",
   "name": "python3"
  },
  "language_info": {
   "codemirror_mode": {
    "name": "ipython",
    "version": 3
   },
   "file_extension": ".py",
   "mimetype": "text/x-python",
   "name": "python",
   "nbconvert_exporter": "python",
   "pygments_lexer": "ipython3",
   "version": "3.9.10"
  },
  "orig_nbformat": 4
 },
 "nbformat": 4,
 "nbformat_minor": 2
}
